{
  "nbformat": 4,
  "nbformat_minor": 0,
  "metadata": {
    "colab": {
      "provenance": [],
      "collapsed_sections": [],
      "authorship_tag": "ABX9TyMCcHKt0YNz+tKtzI1RXtWF",
      "include_colab_link": true
    },
    "kernelspec": {
      "name": "python3",
      "display_name": "Python 3"
    },
    "language_info": {
      "name": "python"
    }
  },
  "cells": [
    {
      "cell_type": "markdown",
      "metadata": {
        "id": "view-in-github",
        "colab_type": "text"
      },
      "source": [
        "<a href=\"https://colab.research.google.com/github/senaanr/Machine_learning/blob/main/machine_learning_project3.ipynb\" target=\"_parent\"><img src=\"https://colab.research.google.com/assets/colab-badge.svg\" alt=\"Open In Colab\"/></a>"
      ]
    },
    {
      "cell_type": "code",
      "execution_count": null,
      "metadata": {
        "id": "QCryuq5HxjlB"
      },
      "outputs": [],
      "source": [
        "salesperson_revenue = {\n",
        "    \"Ben\":0,\n",
        "    \"Omer\":0,\n",
        "    \"Karen\":0,\n",
        "    \"Celine\":0,\n",
        "    \"Sue\":0,\n",
        "    \"Bora\":0,\n",
        "    \"Rose\":0,\n",
        "    \"Ellen\":0\n",
        "}"
      ]
    },
    {
      "cell_type": "code",
      "source": [
        "def enter_revenue(name, revenue):\n",
        "  global salesperson_revenue\n",
        "  salesperson_revenue[name] += revenue"
      ],
      "metadata": {
        "id": "vI9BfH7DvWn2"
      },
      "execution_count": null,
      "outputs": []
    },
    {
      "cell_type": "code",
      "source": [
        "while True:\n",
        "  name = input(\"Employee name:\")\n",
        "  if name == \"quit\":\n",
        "    break\n",
        "  revenue = int(input(\"Enter revenue:\"))\n",
        "  enter_revenue(name,revenue)\n",
        "  print(f\"{name}'s revenue is {salesperson_revenue[name]}\")"
      ],
      "metadata": {
        "id": "cRinJHqJR61w"
      },
      "execution_count": null,
      "outputs": []
    },
    {
      "cell_type": "code",
      "source": [
        "print(salesperson_revenue)"
      ],
      "metadata": {
        "id": "qoOEa_zMTD8b"
      },
      "execution_count": null,
      "outputs": []
    }
  ]
}