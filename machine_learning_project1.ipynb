{
  "nbformat": 4,
  "nbformat_minor": 0,
  "metadata": {
    "colab": {
      "provenance": [],
      "authorship_tag": "ABX9TyPJ7GD8j0PpSOIWV6lOdToE",
      "include_colab_link": true
    },
    "kernelspec": {
      "name": "python3",
      "display_name": "Python 3"
    },
    "language_info": {
      "name": "python"
    }
  },
  "cells": [
    {
      "cell_type": "markdown",
      "metadata": {
        "id": "view-in-github",
        "colab_type": "text"
      },
      "source": [
        "<a href=\"https://colab.research.google.com/github/senaanr/Machine_learning/blob/main/machine_learning_project1.ipynb\" target=\"_parent\"><img src=\"https://colab.research.google.com/assets/colab-badge.svg\" alt=\"Open In Colab\"/></a>"
      ]
    },
    {
      "cell_type": "code",
      "execution_count": null,
      "metadata": {
        "id": "cuh5RuRYcwZq"
      },
      "outputs": [],
      "source": [
        "name = \"Sena Nur\"\n",
        "surname = \"Eren\"\n",
        "age = 19\n",
        "ID = 12345678\n",
        "live = \"Samsun\"\n",
        "health_insurance = True\n",
        "nationality = \"Turkey\""
      ]
    },
    {
      "cell_type": "code",
      "source": [
        "print(f\"My name is {name}. {surname} I am {str(age)} years old. I live in {live}. \")"
      ],
      "metadata": {
        "colab": {
          "base_uri": "https://localhost:8080/"
        },
        "id": "WAxdLfW0dUIq",
        "outputId": "3fe1169c-4162-44a4-dee3-e7e2e6ab1fc6"
      },
      "execution_count": null,
      "outputs": [
        {
          "output_type": "stream",
          "name": "stdout",
          "text": [
            "My name is Sena Nur. Eren I am 19 years old. I live in Samsun. \n"
          ]
        }
      ]
    },
    {
      "cell_type": "code",
      "source": [
        "item_list = [\"Laptop\",\"Headset\",\"Second monitor\", \"Mousepad\",\"USB drive\",\"External drive\"]"
      ],
      "metadata": {
        "id": "iRTrOWmpd51T"
      },
      "execution_count": null,
      "outputs": []
    },
    {
      "cell_type": "code",
      "source": [
        "for i in item_list:\n",
        "  print(i)"
      ],
      "metadata": {
        "colab": {
          "base_uri": "https://localhost:8080/"
        },
        "id": "mRJWrQHyeoc9",
        "outputId": "b6c9e1b3-d4ea-4ff5-985c-1a774bc6a142"
      },
      "execution_count": null,
      "outputs": [
        {
          "output_type": "stream",
          "name": "stdout",
          "text": [
            "Laptop\n",
            "Headset\n",
            "Second monitor\n",
            "Mousepad\n",
            "USB drive\n",
            "External drive\n"
          ]
        }
      ]
    },
    {
      "cell_type": "code",
      "source": [
        "mandatory_item_list = item_list[0:3]"
      ],
      "metadata": {
        "id": "WKMyEhe9ewqm"
      },
      "execution_count": null,
      "outputs": []
    },
    {
      "cell_type": "code",
      "source": [
        "optional_item_list = item_list[3:]"
      ],
      "metadata": {
        "id": "yHWggFZGe76b"
      },
      "execution_count": null,
      "outputs": []
    },
    {
      "cell_type": "code",
      "source": [
        "print(mandatory_item_list)\n",
        "print(optional_item_list)"
      ],
      "metadata": {
        "colab": {
          "base_uri": "https://localhost:8080/"
        },
        "id": "ipzuFkkgfEHM",
        "outputId": "f66d2a2d-0712-4cd1-b965-dbcd049ec3fa"
      },
      "execution_count": null,
      "outputs": [
        {
          "output_type": "stream",
          "name": "stdout",
          "text": [
            "['Laptop', 'Headset', 'Second monitor']\n",
            "['Mousepad', 'USB drive', 'External drive']\n"
          ]
        }
      ]
    },
    {
      "cell_type": "code",
      "source": [
        "limit = 5000"
      ],
      "metadata": {
        "id": "0XY3YsEkfMIs"
      },
      "execution_count": null,
      "outputs": []
    },
    {
      "cell_type": "code",
      "source": [
        "price_sheet = {\n",
        "    \"Laptop\":1500,\n",
        "    \"Headset\":100,\n",
        "    \"Second monitor\":200,\n",
        "    \"Mousepad\":50,\n",
        "    \"USB drive\":70,\n",
        "    \"External drive\":250\n",
        "}"
      ],
      "metadata": {
        "id": "oBl4qCvihBky"
      },
      "execution_count": null,
      "outputs": []
    },
    {
      "cell_type": "code",
      "source": [
        "cart = []"
      ],
      "metadata": {
        "id": "Ab2R9aF3hfZM"
      },
      "execution_count": null,
      "outputs": []
    },
    {
      "cell_type": "code",
      "source": [
        "def add_to_cart(item,quantity):\n",
        "  cart.append((item,quantity))\n",
        "  item_list.remove(item)"
      ],
      "metadata": {
        "id": "c7nz0lQOhjTD"
      },
      "execution_count": null,
      "outputs": []
    },
    {
      "cell_type": "code",
      "source": [
        "def create_invoice():\n",
        "  total_amount_inc_tax = 0\n",
        "  for item,quantity in cart:\n",
        "    price = price_sheet[item]\n",
        "    tax = 0.18 * price\n",
        "    total = (tax + price) * quantity\n",
        "    total_amount_inc_tax += total\n",
        "    print(\"Item: \",item, \"\\t\",\"Price: \",price,\"\\t\",\"Quantity: \",quantity,\"\\t\",\"Tax: \",tax,\"\\t\",\"Total: \",total,\"\\t\")\n",
        "  \n",
        "  print(\"After the taxes are applied the total amount is:\",\"\\t\",total_amount_inc_tax)\n",
        "  \n",
        "  return total_amount_inc_tax"
      ],
      "metadata": {
        "id": "ZjKdf5bkh-jY"
      },
      "execution_count": null,
      "outputs": []
    },
    {
      "cell_type": "code",
      "source": [
        "def checkout():\n",
        "  global limit\n",
        "  total_amount = create_invoice()\n",
        "  if limit == 0:\n",
        "    print(\"You don't have any budget.\")\n",
        "  elif total_amount > limit:\n",
        "    print(\"The amount you have to pay is above the spending limit. You have to drop some items.\")\n",
        "  else:\n",
        "    limit -= total_amount\n",
        "    print(f\"The total amount (inc1. taxes) you've paid is {total_amount}. You have {limit} dollars left.\")"
      ],
      "metadata": {
        "id": "x9hzsZNuh-w0"
      },
      "execution_count": null,
      "outputs": []
    },
    {
      "cell_type": "code",
      "source": [
        "add_to_cart(\"Laptop\",1)\n",
        "\n",
        "add_to_cart(\"Headset\",3)\n",
        "\n",
        "add_to_cart(\"Second monitor\",2)\n",
        "\n",
        "add_to_cart(\"Mousepad\",2)\n",
        "\n",
        "add_to_cart(\"USB drive\",1)\n",
        "\n",
        "add_to_cart(\"External drive\",1)\n",
        "\n",
        "checkout()"
      ],
      "metadata": {
        "colab": {
          "base_uri": "https://localhost:8080/"
        },
        "id": "6Wxw6HZwnbEF",
        "outputId": "ec5721a3-46cc-42c1-e4de-29c435f6db2e"
      },
      "execution_count": null,
      "outputs": [
        {
          "output_type": "stream",
          "name": "stdout",
          "text": [
            "Item:  Laptop \t Price:  1500 \t Quantity:  1 \t Tax:  270.0 \t Total:  1770.0 \t\n",
            "Item:  Headset \t Price:  100 \t Quantity:  3 \t Tax:  18.0 \t Total:  354.0 \t\n",
            "Item:  Second monitor \t Price:  200 \t Quantity:  2 \t Tax:  36.0 \t Total:  472.0 \t\n",
            "Item:  Mousepad \t Price:  50 \t Quantity:  2 \t Tax:  9.0 \t Total:  118.0 \t\n",
            "Item:  USB drive \t Price:  70 \t Quantity:  1 \t Tax:  12.6 \t Total:  82.6 \t\n",
            "Item:  External drive \t Price:  250 \t Quantity:  1 \t Tax:  45.0 \t Total:  295.0 \t\n",
            "After the taxes are applied the total amount is: \t 3091.6\n",
            "The total amount (inc1. taxes) you've paid is 3091.6. You have 1908.4 dollars left.\n"
          ]
        }
      ]
    },
    {
      "cell_type": "code",
      "source": [
        "print(cart)"
      ],
      "metadata": {
        "id": "GHeVpAQGpfrL",
        "outputId": "f9246a2a-4806-4afd-a1a6-a018aba5915d",
        "colab": {
          "base_uri": "https://localhost:8080/"
        }
      },
      "execution_count": null,
      "outputs": [
        {
          "output_type": "stream",
          "name": "stdout",
          "text": [
            "[('Laptop', 1), ('Headset', 3), ('Second monitor', 2), ('Mousepad', 2), ('USB drive', 1), ('External drive', 1)]\n"
          ]
        }
      ]
    }
  ]
}