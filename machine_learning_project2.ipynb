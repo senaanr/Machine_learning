{
  "nbformat": 4,
  "nbformat_minor": 0,
  "metadata": {
    "colab": {
      "provenance": [],
      "authorship_tag": "ABX9TyN+2bKk5G2feGd3CdPA+izD",
      "include_colab_link": true
    },
    "kernelspec": {
      "name": "python3",
      "display_name": "Python 3"
    },
    "language_info": {
      "name": "python"
    }
  },
  "cells": [
    {
      "cell_type": "markdown",
      "metadata": {
        "id": "view-in-github",
        "colab_type": "text"
      },
      "source": [
        "<a href=\"https://colab.research.google.com/github/senaanr/Machine_learning/blob/main/machine_learning_project2.ipynb\" target=\"_parent\"><img src=\"https://colab.research.google.com/assets/colab-badge.svg\" alt=\"Open In Colab\"/></a>"
      ]
    },
    {
      "cell_type": "code",
      "execution_count": null,
      "metadata": {
        "id": "buGFiRQcrOI6"
      },
      "outputs": [],
      "source": [
        "import random"
      ]
    },
    {
      "cell_type": "code",
      "source": [
        "action_list = [\"rock\",\"paper\",\"scissors\"]"
      ],
      "metadata": {
        "id": "Xq0KS3mgrntA"
      },
      "execution_count": null,
      "outputs": []
    },
    {
      "cell_type": "code",
      "source": [
        "computer_score = 0\n",
        "player_score = 0\n",
        "\n",
        "total_rounds = input(\"How many rounds do you want to play? Please enter a number here:\")\n",
        "\n",
        "round_counter = 0\n",
        "\n",
        "while True:\n",
        "  round_counter += 1\n",
        "  print(\"Round number:\",round_counter)\n",
        "\n",
        "  computer_choice = random.choice(action_list)\n",
        "\n",
        "  player_choice = input(\"Please choose your action:\")\n",
        "\n",
        "  print(\"Computer:\",computer_choice)\n",
        "  print(\"Player:\",player_choice)\n",
        "\n",
        "  if computer_choice == player_choice:\n",
        "    print(\"Tie! Both players chose the same action.\")\n",
        "\n",
        "  elif computer_choice == \"paper\":\n",
        "    if player_choice == \"rock\":\n",
        "      print(\"Winner is: Computer\")\n",
        "      computer_score += 1\n",
        "    else:\n",
        "      print(\"Winner is: Player\")\n",
        "      player_score += 1\n",
        "\n",
        "  elif computer_choice == \"rock\":\n",
        "    if player_choice == \"paper\":\n",
        "      print(\"Winner is: Player\")\n",
        "      player_score += 1\n",
        "    else:\n",
        "      print(\"Winner is: Computer\")\n",
        "      computer_score +=1\n",
        "\n",
        "  elif computer_choice == \"scissors\":\n",
        "    if player_choice == \"paper\":\n",
        "      print(\"Winner is: Computer\")\n",
        "      computer_score += 1\n",
        "    else:\n",
        "      print(\"Winner is: Player\")\n",
        "      player_score += 1\n",
        "\n",
        "  if round_counter == int(total_rounds):\n",
        "    break\n",
        "\n",
        "if computer_score == player_score:\n",
        "  print(\"There is no winner, tie.\",computer_score, \":\",player_score)\n",
        "\n",
        "elif computer_score > player_score:\n",
        "  print(\"Computer won iwth score\", computer_score,\":\",player_score)\n",
        "\n",
        "elif computer_score < player_score:\n",
        "  print(\"Player won iwth score\", computer_score,\":\",player_score)\n",
        "  "
      ],
      "metadata": {
        "colab": {
          "base_uri": "https://localhost:8080/"
        },
        "id": "URUx1nTSrupz",
        "outputId": "90fcc6bf-acfc-46c1-8a42-df33718822dd"
      },
      "execution_count": null,
      "outputs": [
        {
          "output_type": "stream",
          "name": "stdout",
          "text": [
            "How many rounds do you want to play? Please enter a number here:3\n",
            "Round number: 1\n",
            "Please choose your action:paper\n",
            "Computer: paper\n",
            "Player: paper\n",
            "Tie! Both players chose the same action.\n",
            "Round number: 2\n",
            "Please choose your action:scissors\n",
            "Computer: rock\n",
            "Player: scissors\n",
            "Winner is: Computer\n",
            "Round number: 3\n",
            "Please choose your action:paper\n",
            "Computer: rock\n",
            "Player: paper\n",
            "Winner is: Player\n",
            "There is no winner, tie. 1 : 1\n"
          ]
        }
      ]
    }
  ]
}